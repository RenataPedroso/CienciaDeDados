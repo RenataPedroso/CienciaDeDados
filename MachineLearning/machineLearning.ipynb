{
  "nbformat": 4,
  "nbformat_minor": 0,
  "metadata": {
    "colab": {
      "name": "Cópia de RENATA NICOLLY NUNES PEDROSO - atividade_machine_learning.ipynb",
      "provenance": [],
      "collapsed_sections": []
    },
    "kernelspec": {
      "name": "python3",
      "display_name": "Python 3"
    },
    "language_info": {
      "name": "python"
    }
  },
  "cells": [
    {
      "cell_type": "markdown",
      "metadata": {
        "id": "lJpk2iQkoZ01"
      },
      "source": [
        "# Importação da Bibliotecas"
      ]
    },
    {
      "cell_type": "code",
      "metadata": {
        "id": "_xf2a2-4oYZV"
      },
      "source": [
        "import numpy as np\n",
        "\n",
        "from sklearn.naive_bayes import MultinomialNB\n",
        "from sklearn.tree import DecisionTreeClassifier\n",
        "from sklearn.naive_bayes import GaussianNB\n",
        "from sklearn.linear_model import LogisticRegression\n",
        "from sklearn.neighbors import KNeighborsClassifier\n",
        "#import para o percentual segundo documentação do sklearn\n",
        "from sklearn.metrics import accuracy_score\n",
        "\n",
        "import warnings \n",
        "warnings.filterwarnings('ignore')"
      ],
      "execution_count": 365,
      "outputs": []
    },
    {
      "cell_type": "markdown",
      "metadata": {
        "id": "PcAvIcPjosvM"
      },
      "source": [
        "# Dados\n",
        "\n",
        "Definição dos animais, sem a indicação das `features`, apenas indormando quais são os animais."
      ]
    },
    {
      "cell_type": "code",
      "metadata": {
        "id": "2W5zsEgoodVk"
      },
      "source": [
        "animais = np.array([\n",
        "    [1, 0, 1, 1, 0, 1, 1, 'Poodle'],\n",
        "    [0, 0, 0, 1, 1, 0, 0, 'Poodle'],\n",
        "    [1, 1, 1, 1, 1, 1, 0, 'Poodle'],\n",
        "    [0, 0, 0, 0, 1, 1, 0, 'Poodle'],\n",
        "    [1, 1, 1, 0, 1, 0, 0, 'Poodle'],\n",
        "    [0, 1, 1, 1, 0, 1, 0, 'Doberman'],\n",
        "    [0, 1, 1, 1, 0, 0, 1, 'Doberman'],\n",
        "    [0, 1, 1, 1, 1, 1, 1, 'Doberman'],\n",
        "    [0, 0, 1, 0, 0, 0, 1, 'Doberman'],\n",
        "    [1, 1, 0, 1, 1, 0, 0, 'Doberman'],\n",
        "    [1, 1, 0, 0, 1, 0, 1, 'Pit Bull'],\n",
        "    [1, 0, 0, 1, 0, 0, 1, 'Pit Bull'],\n",
        "    [0, 0, 0, 0, 1, 1, 1, 'Pit Bull'],\n",
        "    [0, 0, 0, 1, 1, 0, 0, 'Pit Bull'],\n",
        "    [1, 0, 1, 0, 1, 1, 0, 'Pit Bull'],\n",
        "    [0, 0, 0, 1, 1, 1, 0, 'Fila'],\n",
        "    [1, 1, 1, 0, 1, 1, 0, 'Fila'],\n",
        "    [0, 1, 1, 1, 1, 1, 0, 'Fila'],\n",
        "    [1, 1, 0, 0, 1, 1, 1, 'Fila'],\n",
        "    [0, 1, 1, 1, 0, 0, 1, 'Fila']\n",
        "])"
      ],
      "execution_count": 6,
      "outputs": []
    },
    {
      "cell_type": "markdown",
      "metadata": {
        "id": "LBNN2IVoS5Zl"
      },
      "source": [
        "# Conjunto de testes"
      ]
    },
    {
      "cell_type": "code",
      "metadata": {
        "id": "kUjaIwVvS78l"
      },
      "source": [
        "dados_teste = [\n",
        "  [0, 1, 1, 1, 1, 1, 0], # Fila\n",
        "  [0, 1, 1, 1, 1, 1, 1], # Doberman\n",
        "  [0, 0, 0, 0, 1, 1, 1], # Pit Bull\n",
        "  [0, 0, 0, 0, 1, 1, 0], # Poodle\n",
        "  [1, 0, 1, 1, 0, 1, 1]  # Poodle\n",
        "]       "
      ],
      "execution_count": 345,
      "outputs": []
    },
    {
      "cell_type": "markdown",
      "metadata": {
        "id": "AhU6lWPzQHZW"
      },
      "source": [
        "# Criação dos Modelos com a SKLearn"
      ]
    },
    {
      "cell_type": "code",
      "metadata": {
        "id": "V2QKBIQsQG-O"
      },
      "source": [
        "mm = MultinomialNB()\n",
        "tree = DecisionTreeClassifier(max_depth=10)\n",
        "knn = KNeighborsClassifier(n_neighbors=5)\n",
        "logreg = LogisticRegression()\n",
        "gnb = GaussianNB()"
      ],
      "execution_count": 327,
      "outputs": []
    },
    {
      "cell_type": "markdown",
      "metadata": {
        "id": "CYwmKXikSEUQ"
      },
      "source": [
        "# Atividade\n",
        "___"
      ]
    },
    {
      "cell_type": "markdown",
      "metadata": {
        "id": "YyH9sxbqQqK9"
      },
      "source": [
        "## 1. Separação dos Dados"
      ]
    },
    {
      "cell_type": "code",
      "metadata": {
        "id": "tx7by2YBpAtx"
      },
      "source": [
        "# Separar os dados em \"X\" para características e \"y\" para animais\n",
        "X = animais[::, :7].astype(int)\n",
        "y = animais[:,7]"
      ],
      "execution_count": 355,
      "outputs": []
    },
    {
      "cell_type": "code",
      "metadata": {
        "colab": {
          "base_uri": "https://localhost:8080/"
        },
        "id": "dRbn9iSPpCEf",
        "outputId": "fe716877-5868-4eea-fea6-11a435a803c4"
      },
      "source": [
        "print(X)"
      ],
      "execution_count": 356,
      "outputs": [
        {
          "output_type": "stream",
          "name": "stdout",
          "text": [
            "[[1 0 1 1 0 1 1]\n",
            " [0 0 0 1 1 0 0]\n",
            " [1 1 1 1 1 1 0]\n",
            " [0 0 0 0 1 1 0]\n",
            " [1 1 1 0 1 0 0]\n",
            " [0 1 1 1 0 1 0]\n",
            " [0 1 1 1 0 0 1]\n",
            " [0 1 1 1 1 1 1]\n",
            " [0 0 1 0 0 0 1]\n",
            " [1 1 0 1 1 0 0]\n",
            " [1 1 0 0 1 0 1]\n",
            " [1 0 0 1 0 0 1]\n",
            " [0 0 0 0 1 1 1]\n",
            " [0 0 0 1 1 0 0]\n",
            " [1 0 1 0 1 1 0]\n",
            " [0 0 0 1 1 1 0]\n",
            " [1 1 1 0 1 1 0]\n",
            " [0 1 1 1 1 1 0]\n",
            " [1 1 0 0 1 1 1]\n",
            " [0 1 1 1 0 0 1]]\n"
          ]
        }
      ]
    },
    {
      "cell_type": "code",
      "metadata": {
        "colab": {
          "base_uri": "https://localhost:8080/"
        },
        "id": "6q_l7igppL48",
        "outputId": "e6da2716-ccd3-4985-e9af-d8f0da6376da"
      },
      "source": [
        "print(y)"
      ],
      "execution_count": 357,
      "outputs": [
        {
          "output_type": "stream",
          "name": "stdout",
          "text": [
            "['Poodle' 'Poodle' 'Poodle' 'Poodle' 'Poodle' 'Doberman' 'Doberman'\n",
            " 'Doberman' 'Doberman' 'Doberman' 'Pit Bull' 'Pit Bull' 'Pit Bull'\n",
            " 'Pit Bull' 'Pit Bull' 'Fila' 'Fila' 'Fila' 'Fila' 'Fila']\n"
          ]
        }
      ]
    },
    {
      "cell_type": "markdown",
      "metadata": {
        "id": "uygGMNDcSTC_"
      },
      "source": [
        "## 2. Treinando os modelos"
      ]
    },
    {
      "cell_type": "code",
      "metadata": {
        "id": "uhhyEmeZpNcx"
      },
      "source": [
        "mmT = mm.fit(X, y)\n",
        "treeT = tree.fit(X, y)\n",
        "knnT = knn.fit(X, y)\n",
        "logregT = logreg.fit(X, y)\n",
        "gnbT = gnb.fit(X, y)"
      ],
      "execution_count": 359,
      "outputs": []
    },
    {
      "cell_type": "markdown",
      "metadata": {
        "id": "6i76mVEHRZc7"
      },
      "source": [
        "## 3. Realizando as predições\n",
        "\n",
        "**Respostas esperadas**:\n",
        "* Fila, Doberman, Pit Bull, Poodle, Poodle"
      ]
    },
    {
      "cell_type": "code",
      "metadata": {
        "id": "tkSvMn6-pQwH",
        "colab": {
          "base_uri": "https://localhost:8080/"
        },
        "outputId": "1ca24660-4bc0-482b-8310-2c4ee8199390"
      },
      "source": [
        "print(f'MultinomialNB: {mmT.predict(dados_teste)}\\n')\n",
        "print(f'Decision Tree: {treeT.predict(dados_teste)}\\n')\n",
        "print(f'Logistic Regression: {logregT.predict(dados_teste)}\\n')\n",
        "print(f'Knn: {knnT.predict(dados_teste)}\\n')\n",
        "print(f'Gaussian: {gnbT.predict(dados_teste)}\\n')"
      ],
      "execution_count": 377,
      "outputs": [
        {
          "output_type": "stream",
          "name": "stdout",
          "text": [
            "MultinomialNB: ['Fila' 'Doberman' 'Pit Bull' 'Fila' 'Pit Bull']\n",
            "\n",
            "Decision Tree: ['Fila' 'Doberman' 'Pit Bull' 'Poodle' 'Poodle']\n",
            "\n",
            "Logistic Regression: ['Fila' 'Fila' 'Pit Bull' 'Pit Bull' 'Poodle']\n",
            "\n",
            "Knn: ['Doberman' 'Doberman' 'Fila' 'Pit Bull' 'Doberman']\n",
            "\n",
            "Gaussian: ['Fila' 'Fila' 'Pit Bull' 'Pit Bull' 'Doberman']\n",
            "\n"
          ]
        }
      ]
    },
    {
      "cell_type": "markdown",
      "metadata": {
        "id": "eQCXfHOmTmbb"
      },
      "source": [
        "## 4. Qual modelo teve o maior desempenho, considerando a sequência de acertos?\n",
        "\n",
        "a) MultinomialNB\n",
        "\n",
        "b) Decision Tree\n",
        "\n",
        "c) Logistic Regression\n",
        "\n",
        "d) KNN\n",
        "\n",
        "e) Gaussian"
      ]
    },
    {
      "cell_type": "code",
      "metadata": {
        "id": "AiRo0p8zUPg5"
      },
      "source": [
        "# Resposta: b, Decision Tree"
      ],
      "execution_count": null,
      "outputs": []
    },
    {
      "cell_type": "markdown",
      "metadata": {
        "id": "3MUgXY4IUbIQ"
      },
      "source": [
        "## 5. Mostra o percentual de acerto de **cada modelo**."
      ]
    },
    {
      "cell_type": "code",
      "metadata": {
        "id": "m21M8mAbpSGN",
        "colab": {
          "base_uri": "https://localhost:8080/"
        },
        "outputId": "b7cae66b-f9ad-43c1-9afe-b5620d2fb193"
      },
      "source": [
        "# criando lista padrão\n",
        "y_true = ['Fila', 'Doberman', 'Pit Bull', 'Poodle', 'Poodle']\n",
        "\n",
        "#recolhendo percentuais\n",
        "percent_mmt = accuracy_score(y_true, mmT.predict(dados_teste))*100\n",
        "percent_tree = accuracy_score(y_true, treeT.predict(dados_teste))*100\n",
        "percent_logreg = accuracy_score(y_true, logregT.predict(dados_teste))*100\n",
        "percent_knn = accuracy_score(y_true, knnT.predict(dados_teste))*100\n",
        "percent_gnb = accuracy_score(y_true, gnbT.predict(dados_teste))*100\n",
        "\n",
        "#printando percentuais\n",
        "print(f'MultinomialNB: {percent_mmt}%\\n')\n",
        "print(f'Decision Tree: {percent_tree}%\\n')\n",
        "print(f'Logistic Regression: {percent_logreg}%\\n')\n",
        "print(f'Knn: {percent_knn}%\\n')\n",
        "print(f'Gaussian: {percent_gnb}%\\n')\n"
      ],
      "execution_count": 427,
      "outputs": [
        {
          "output_type": "stream",
          "name": "stdout",
          "text": [
            "MultinomialNB: 60.0%\n",
            "\n",
            "Decision Tree: 100.0%\n",
            "\n",
            "Logistic Regression: 60.0%\n",
            "\n",
            "Knn: 20.0%\n",
            "\n",
            "Gaussian: 40.0%\n",
            "\n"
          ]
        }
      ]
    },
    {
      "cell_type": "markdown",
      "metadata": {
        "id": "nok8IN_6U_9N"
      },
      "source": [
        "___"
      ]
    },
    {
      "cell_type": "markdown",
      "metadata": {
        "id": "BCO9f-KtVBct"
      },
      "source": [
        "# Para fins de experimentos e aprendizado (não será considerada como questão)\n",
        "\n",
        "Altere os dados de `discreto` para `contínuo` nas `features` abaixo e execute os modelos com os novos dados.\n",
        "\n",
        "Verifique se há melhora ou piora em cada um deles.\n",
        "\n"
      ]
    },
    {
      "cell_type": "code",
      "metadata": {
        "id": "ljLdN8JuVA6s"
      },
      "source": [
        "animais = np.array([\n",
        "    [1, 0, 1, 1, 0, 1, 1, 'Poodle'],\n",
        "    [0, 0, 0, 1, 1, 0, 0, 'Poodle'],\n",
        "    [1, 1, 1, 1, 1, 1, 0, 'Poodle'],\n",
        "    [0, 0, 0, 0, 1, 1, 0, 'Poodle'],\n",
        "    [1, 1, 1, 0, 1, 0, 0, 'Poodle'],\n",
        "    [0, 1, 1, 1, 0, 1, 0, 'Doberman'],\n",
        "    [0, 1, 1, 1, 0, 0, 1, 'Doberman'],\n",
        "    [0, 1, 1, 1, 1, 1, 1, 'Doberman'],\n",
        "    [0, 0, 1, 0, 0, 0, 1, 'Doberman'],\n",
        "    [1, 1, 0, 1, 1, 0, 0, 'Doberman'],\n",
        "    [1, 1, 0, 0, 1, 0, 1, 'Pit Bull'],\n",
        "    [1, 0, 0, 1, 0, 0, 1, 'Pit Bull'],\n",
        "    [0, 0, 0, 0, 1, 1, 1, 'Pit Bull'],\n",
        "    [0, 0, 0, 1, 1, 0, 0, 'Pit Bull'],\n",
        "    [1, 0, 1, 0, 1, 1, 0, 'Pit Bull'],\n",
        "    [0, 0, 0, 1, 1, 1, 0, 'Fila'],\n",
        "    [1, 1, 1, 0, 1, 1, 0, 'Fila'],\n",
        "    [0, 1, 1, 1, 1, 1, 0, 'Fila'],\n",
        "    [1, 1, 0, 0, 1, 1, 1, 'Fila'],\n",
        "    [0, 1, 1, 1, 0, 0, 1, 'Fila']\n",
        "])\n",
        "\n",
        "dados_teste = [\n",
        "  [0, 1, 1, 1, 1, 1, 0], # Fila\n",
        "  [0, 1, 1, 1, 1, 1, 1], # Doberman\n",
        "  [0, 0, 0, 0, 1, 1, 1], # Pit Bull\n",
        "  [0, 0, 0, 0, 1, 1, 0], # Poodle\n",
        "  [1, 0, 1, 1, 0, 1, 1]  # Poodle\n",
        "]"
      ],
      "execution_count": null,
      "outputs": []
    }
  ]
}